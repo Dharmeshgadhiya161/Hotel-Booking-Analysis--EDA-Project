{
  "nbformat": 4,
  "nbformat_minor": 0,
  "metadata": {
    "colab": {
      "private_outputs": true,
      "provenance": [],
      "collapsed_sections": [
        "OVtJsKN_phqQ",
        "lssrdh5qphqQ",
        "1M8mcRywphqQ",
        "tgIPom80phqQ",
        "JMzcOPDDphqR",
        "X_VqEhTip1ck",
        "8zGJKyg5p1ck",
        "PVzmfK_Ep1ck",
        "gIfDvo9L0UH2"
      ]
    },
    "kernelspec": {
      "name": "python3",
      "display_name": "Python 3"
    },
    "language_info": {
      "name": "python"
    }
  },
  "cells": [
    {
      "cell_type": "markdown",
      "source": [
        "# **Project Name**    -\n",
        "\n"
      ],
      "metadata": {
        "id": "vncDsAP0Gaoa"
      }
    },
    {
      "cell_type": "markdown",
      "source": [
        "##### **Project Type**    - EDA\n",
        "##### **Contribution**    - Individual\n",
        "##### **Team Member 1 -**  Dharmesh J Gadhiya\n",
        "\n"
      ],
      "metadata": {
        "id": "beRrZCGUAJYm"
      }
    },
    {
      "cell_type": "markdown",
      "source": [
        "# **Project Summary -**"
      ],
      "metadata": {
        "id": "FJNUwmbgGyua"
      }
    },
    {
      "cell_type": "markdown",
      "source": [
        "The hotel booking dataset spans three years, from **(2015 ,2016 and 2017)** and includes data for two types of hotels: **City Hotel**  and **Resort hotel**. The dataset provides year, month, and day-wise booking information, focusing on guest stays, including weekend nights (Saturday-Sunday) and weeknights (Monday-Friday), along with the total number of family members (adults, children, babies) in the bookings.\n",
        "\n",
        "The dataset also analyzes various market segments to determine the sources of bookings, such as direct bookings from customers, online travel agents, offline travel agents, and tour operators. It identifies the most frequent and new guests, examines which types of customers make the most bookings, and assesses the availability of parking spaces. Additionally, it tracks the total number of special requests made by guests, highlighting the most common types of requests.\n",
        "\n",
        "The data was cleaned, manipulated, and analyzed, followed by visualizations to provide insights into these various aspects of hotel bookings.\n"
      ],
      "metadata": {
        "id": "F6v_1wHtG2nS"
      }
    },
    {
      "cell_type": "markdown",
      "source": [
        "# **GitHub Link -**"
      ],
      "metadata": {
        "id": "w6K7xa23Elo4"
      }
    },
    {
      "cell_type": "markdown",
      "source": [
        "Provide your GitHub Link here."
      ],
      "metadata": {
        "id": "h1o69JH3Eqqn"
      }
    },
    {
      "cell_type": "markdown",
      "source": [
        "# **Problem Statement**\n"
      ],
      "metadata": {
        "id": "yQaldy8SH6Dl"
      }
    },
    {
      "cell_type": "markdown",
      "source": [
        "**Write Problem Statement Here.**\n",
        "\n",
        "> The hotel booking dataset contains detailed information about bookings\n",
        "understand the patterns in hotel bookings, customer behavior, and cancellations.\n",
        "Understand the cancellation rates by hotel type, lead time, arrival year/month, and other relevant features.\n",
        "Check if guests tend to stay more on weekends or weekdays and whether this affects cancellations.\n",
        "Segment customers based on demographics (adults, children, country) and booking behavior (repeated guests, previous cancellations, market segment) to identify patterns.\n",
        "Analyze whether the pricing of the room (ADR – Average Daily Rate) has anything to do with cancellations or whether the guest is a first-time or repeat customer.\n",
        "\n",
        "The objective is to perform hotel managers make better decisions about pricing, marketing Targeting, trends and improving guest experience. It also helps in reducing cancellations and increasing the number of successful bookings.\n",
        "\n",
        "\n",
        "\n"
      ],
      "metadata": {
        "id": "DpeJGUA3kjGy"
      }
    },
    {
      "cell_type": "markdown",
      "source": [
        "#### **Define Your Business Objective?**"
      ],
      "metadata": {
        "id": "PH-0ReGfmX4f"
      }
    },
    {
      "cell_type": "markdown",
      "source": [
        "The business objective of the analysis aims to provide valuable insights for hotels make smarter choices to increase bookings strategies, reduce cancellations, and enhance customer satisfaction.\n",
        "The insights gained can drive targeted marketing, and reduce costs, contributing to long-term business growth.\n"
      ],
      "metadata": {
        "id": "PhDvGCAqmjP1"
      }
    },
    {
      "cell_type": "markdown",
      "source": [
        "# **General Guidelines** : -  "
      ],
      "metadata": {
        "id": "mDgbUHAGgjLW"
      }
    },
    {
      "cell_type": "markdown",
      "source": [
        "1.   Well-structured, formatted, and commented code is required.\n",
        "2.   Exception Handling, Production Grade Code & Deployment Ready Code will be a plus. Those students will be awarded some additional credits.\n",
        "     \n",
        "     The additional credits will have advantages over other students during Star Student selection.\n",
        "       \n",
        "             [ Note: - Deployment Ready Code is defined as, the whole .ipynb notebook should be executable in one go\n",
        "                       without a single error logged. ]\n",
        "\n",
        "3.   Each and every logic should have proper comments.\n",
        "4. You may add as many number of charts you want. Make Sure for each and every chart the following format should be answered.\n",
        "        \n",
        "\n",
        "```\n",
        "# Chart visualization code\n",
        "```\n",
        "            \n",
        "\n",
        "*   Why did you pick the specific chart?\n",
        "*   What is/are the insight(s) found from the chart?\n",
        "* Will the gained insights help creating a positive business impact?\n",
        "Are there any insights that lead to negative growth? Justify with specific reason.\n",
        "\n",
        "5. You have to create at least 20 logical & meaningful charts having important insights.\n",
        "\n",
        "\n",
        "[ Hints : - Do the Vizualization in  a structured way while following \"UBM\" Rule.\n",
        "\n",
        "U - Univariate Analysis,\n",
        "\n",
        "B - Bivariate Analysis (Numerical - Categorical, Numerical - Numerical, Categorical - Categorical)\n",
        "\n",
        "M - Multivariate Analysis\n",
        " ]\n",
        "\n",
        "\n",
        "\n"
      ],
      "metadata": {
        "id": "ZrxVaUj-hHfC"
      }
    },
    {
      "cell_type": "code",
      "source": [
        "from google.colab import drive\n",
        "drive.mount('/content/drive/')"
      ],
      "metadata": {
        "id": "s9ZMZBfxlqoL"
      },
      "execution_count": null,
      "outputs": []
    },
    {
      "cell_type": "markdown",
      "source": [
        "# ***Let's Begin !***"
      ],
      "metadata": {
        "id": "O_i_v8NEhb9l"
      }
    },
    {
      "cell_type": "markdown",
      "source": [
        "## ***1. Know Your Data***"
      ],
      "metadata": {
        "id": "HhfV-JJviCcP"
      }
    },
    {
      "cell_type": "markdown",
      "source": [
        "### Import Libraries"
      ],
      "metadata": {
        "id": "Y3lxredqlCYt"
      }
    },
    {
      "cell_type": "code",
      "source": [
        "# Import Libraries\n",
        "import pandas as pd\n",
        "import numpy as np\n",
        "import matplotlib.pyplot as plt\n",
        "import seaborn as sns\n",
        "import warnings\n",
        "warnings.filterwarnings('ignore')"
      ],
      "metadata": {
        "id": "M8Vqi-pPk-HR"
      },
      "execution_count": null,
      "outputs": []
    },
    {
      "cell_type": "markdown",
      "source": [
        "### Dataset Loading"
      ],
      "metadata": {
        "id": "3RnN4peoiCZX"
      }
    },
    {
      "cell_type": "code",
      "source": [
        "# Load Dataset\n",
        "hotel_booking_df = pd.read_csv('/content/drive/MyDrive/Colab Notebooks/Module2Numerical_Programming_in_Python/Capstone project/Hotel Bookings.csv')"
      ],
      "metadata": {
        "id": "4CkvbW_SlZ_R"
      },
      "execution_count": null,
      "outputs": []
    },
    {
      "cell_type": "markdown",
      "source": [
        "### Dataset First View"
      ],
      "metadata": {
        "id": "x71ZqKXriCWQ"
      }
    },
    {
      "cell_type": "code",
      "source": [
        "# Dataset First Look\n",
        "hotel_booking_df.head() # Data view Top"
      ],
      "metadata": {
        "id": "LWNFOSvLl09H"
      },
      "execution_count": null,
      "outputs": []
    },
    {
      "cell_type": "code",
      "source": [
        "hotel_booking_df.tail(5)# Data View Bottom"
      ],
      "metadata": {
        "id": "wUfSZ8UEVnqa"
      },
      "execution_count": null,
      "outputs": []
    },
    {
      "cell_type": "markdown",
      "source": [
        "### Dataset Rows & Columns count"
      ],
      "metadata": {
        "id": "7hBIi_osiCS2"
      }
    },
    {
      "cell_type": "code",
      "source": [
        "# Dataset Rows & Columns count\n",
        "hotel_booking_df.shape\n",
        "#Rows Count\n",
        "print(f\"Total number of rows are: {hotel_booking_df.shape[0]}\")\n",
        "#Columns Count\n",
        "print(f\"Total number of columns are: {hotel_booking_df.shape[1]}\")"
      ],
      "metadata": {
        "id": "Kllu7SJgmLij"
      },
      "execution_count": null,
      "outputs": []
    },
    {
      "cell_type": "markdown",
      "source": [
        "### Dataset Information"
      ],
      "metadata": {
        "id": "JlHwYmJAmNHm"
      }
    },
    {
      "cell_type": "code",
      "source": [
        "# Dataset Info\n",
        "hotel_booking_df.info()"
      ],
      "metadata": {
        "id": "e9hRXRi6meOf"
      },
      "execution_count": null,
      "outputs": []
    },
    {
      "cell_type": "markdown",
      "source": [
        "#### Duplicate Values"
      ],
      "metadata": {
        "id": "35m5QtbWiB9F"
      }
    },
    {
      "cell_type": "code",
      "source": [
        "# Dataset Duplicate Value Count\n",
        "duplicate_val_count = hotel_booking_df.duplicated().sum()\n",
        "print(f\"{duplicate_val_count}\")"
      ],
      "metadata": {
        "id": "1sLdpKYkmox0"
      },
      "execution_count": null,
      "outputs": []
    },
    {
      "source": [
        "plt.figure(figsize=(10,5))\n",
        "hotel_booking_df.duplicated().value_counts().plot(kind='bar')  # Remove hotel_df[] to plot directly\n",
        "plt.title('Distribution of Duplicated Rows')  # Add a descriptive title (optional)\n",
        "plt.xlabel('Is Duplicated')  # Add x-axis label\n",
        "plt.ylabel('Count')  # Add y-axis label\n",
        "plt.show()"
      ],
      "cell_type": "code",
      "metadata": {
        "id": "Jl5ywxg3y50c"
      },
      "execution_count": null,
      "outputs": []
    },
    {
      "cell_type": "markdown",
      "source": [
        "#### Missing Values/Null Values"
      ],
      "metadata": {
        "id": "PoPl-ycgm1ru"
      }
    },
    {
      "cell_type": "code",
      "source": [
        "# Missing Values/Null Values Count\n",
        "# Calculate missing values sum()\n",
        "missing_data= hotel_booking_df.isnull().sum().loc[lambda x:x > 0].sort_values(ascending=False)\n",
        "#Filters only columns with missing values greater than 0.\n",
        "missing_data\n",
        "# Filter columns with missing values greater than 0\n",
        "# missing_data_filtered = missing_data[missing_data > 0].sort_values(ascending=False)\n",
        "# missing_data_filtered"
      ],
      "metadata": {
        "id": "GgHWkxvamxVg"
      },
      "execution_count": null,
      "outputs": []
    },
    {
      "cell_type": "code",
      "source": [
        "# Visualizing the missing values\n",
        "# Set style\n",
        "sns.set_style(\"darkgrid\")\n",
        "plt.figure(figsize=(12, 5))#figsize width hight\n",
        "#create a linepot\n",
        "sns.lineplot(x= missing_data.values,y= missing_data.index)\n",
        "# Add titles and labels\n",
        "plt.title('Top 4 Columns with Missing Values', fontsize=10, fontweight='bold')\n",
        "plt.xlabel('Number of Missing Values', fontsize=8)\n",
        "plt.ylabel('Column Names', fontsize=8)\n",
        "# Add data labels ,in total missing values data show\n",
        "for index, value in enumerate(missing_data.values):\n",
        "   plt.text(value,index, f'{value}', color='black', va='center', fontsize=9)\n",
        "\n",
        "# Show the plot\n",
        "plt.tight_layout()\n",
        "plt.show()\n"
      ],
      "metadata": {
        "id": "3q5wnI3om9sJ"
      },
      "execution_count": null,
      "outputs": []
    },
    {
      "cell_type": "markdown",
      "source": [
        "### What did you know about your dataset?"
      ],
      "metadata": {
        "id": "H0kj-8xxnORC"
      }
    },
    {
      "cell_type": "markdown",
      "source": [
        "The dataset has three years of booking data (2015-2017) for Resort and City Hotels.\n",
        "This data set has a total number of rows 119390 and columns 32.\n",
        "This data frame total number data types 3:-(float64(4), int64(16), object(12)).This is Dataset Duplicate Value Count number 31994.and number of missing vaules 4 columns((company:-112593),(agent:16340),(country:488),\n",
        "(children\t4)).\n",
        "It includes details like booking status, stay duration, guest counts (adults, children, babies), and revenue.\n",
        "It also shows customer preferences, booking methods, and cancellations, helping analyze trends and improve hotel operations.\n",
        "\n",
        "\n"
      ],
      "metadata": {
        "id": "gfoNAAC-nUe_"
      }
    },
    {
      "cell_type": "markdown",
      "source": [
        "## ***2. Understanding Your Variables***"
      ],
      "metadata": {
        "id": "nA9Y7ga8ng1Z"
      }
    },
    {
      "cell_type": "code",
      "source": [
        "# Dataset Columns\n",
        "hotel_booking_df.columns"
      ],
      "metadata": {
        "id": "j7xfkqrt5Ag5"
      },
      "execution_count": null,
      "outputs": []
    },
    {
      "cell_type": "code",
      "source": [
        "# Dataset Describe\n",
        "hotel_booking_df.describe()"
      ],
      "metadata": {
        "id": "DnOaZdaE5Q5t"
      },
      "execution_count": null,
      "outputs": []
    },
    {
      "cell_type": "markdown",
      "source": [
        "### Variables Description"
      ],
      "metadata": {
        "id": "PBTbrJXOngz2"
      }
    },
    {
      "cell_type": "markdown",
      "source": [
        "Hotel :-\n",
        "* H1 = Resort Hotel\n",
        "* H2 = City Hotel\n",
        "\n",
        "is_cancelled :-  If the booking was cancelled (1) or not(0)\n",
        "\n",
        "lead_time :- Number of days that elapsed between the entering date of the booking into the PMS and the arrival date\n",
        "\n",
        "arrival_date_year :-  Year of arrival date\n",
        "\n",
        "arrival_date_month :- Month of arrival date\n",
        "\n",
        "arrival_date_week_number :- Week number for arrival date\n",
        "\n",
        "arrival_date_day_of_month :- Day of arrival date\n",
        "\n",
        "stays_in_weekend_nights :- Number of weekend nights (Saturday or Sunday) the guest stayed or booked to stay at the hotel\n",
        "\n",
        "stays_in_week_nights :- Number of week nights (Monday to Friday) the guest stayed or booked to stay at the hotel\n",
        "\n",
        "adults :- Number of adults\n",
        "\n",
        "children :- Number of children\n",
        "\n",
        "babies :- Number of babies\n",
        "\n",
        "meal :- Kind of meal opted for\n",
        "*   BB :- Bed & Breakfast\n",
        "*   FB :- Full Board (Beakfast, Lunch and Dinner)\n",
        "*   FB :- Full Board (Beakfast, Lunch and Dinner)\n",
        "*   HB :- Half Board (Breakfast and Dinner normally)\n",
        "*   SC/Undefined :- no meal opted\n",
        "\n",
        "country :-  Country name\n",
        "\n",
        "market_segment :- Which segment the customer belongs to\n",
        "\n",
        "Distribution_channel :- How the customer accessed the stay- corporate booking/Direct/TA.ΤΟ\n",
        "\n",
        "is_repeated_guest :- Guest coming for first time or not(0  first time', '1 repeated guest)\n",
        "\n",
        "previous_cancellation :- Was there a cancellation before\n",
        "\n",
        "previous_bookings_not_cancelend :- count of previous booking sucessfully made by the customer\n",
        "\n",
        "reserved_room_type :- Type of room reserved\n",
        "\n",
        "assigned_room_type :- Type of room assigned\n",
        "\n",
        "booking_changes :- Count of changes made to booking\n",
        "\n",
        "deposit_type :- Deposit type\n",
        "\n",
        "agent:- Booked through agent\n",
        "\n",
        "Company :- Booked through Company\n",
        "\n",
        "days_in_waiting_list :- Number of days in waiting list\n",
        "\n",
        "customer_type:- Type of customer\n",
        "\n",
        "Adr :- Average Daily Rate (revenue per available room per day).\n",
        "\n",
        "required_car_parking :- If car parking is required\n",
        "\n",
        "total_of_special_req :- Number of additional special requirements\n",
        "\n",
        "reservation_status:- Reservation of status (Canceled, Check-Out or No-Show)\n",
        "\n",
        "reservation_status_date :- Date of the specific status\n"
      ],
      "metadata": {
        "id": "aJV4KIxSnxay"
      }
    },
    {
      "cell_type": "markdown",
      "source": [
        "### Check Unique Values for each variable."
      ],
      "metadata": {
        "id": "u3PMJOP6ngxN"
      }
    },
    {
      "cell_type": "code",
      "source": [
        "# Check Unique Values for each variable.\n",
        "for col in hotel_booking_df.columns:\n",
        "  print(f'Unique values count of {col} :',hotel_booking_df[col].nunique())"
      ],
      "metadata": {
        "id": "zms12Yq5n-jE"
      },
      "execution_count": null,
      "outputs": []
    },
    {
      "cell_type": "code",
      "source": [
        "hotel_booking_df['hotel'].unique()"
      ],
      "metadata": {
        "id": "mbfq_TpPJ5Rr"
      },
      "execution_count": null,
      "outputs": []
    },
    {
      "cell_type": "code",
      "source": [
        "hotel_booking_df['is_canceled'].unique()"
      ],
      "metadata": {
        "id": "DTSdfZ3LQO0g"
      },
      "execution_count": null,
      "outputs": []
    },
    {
      "cell_type": "code",
      "source": [
        "hotel_booking_df['arrival_date_year'].unique()"
      ],
      "metadata": {
        "id": "UE2L6FEuRqso"
      },
      "execution_count": null,
      "outputs": []
    },
    {
      "cell_type": "code",
      "source": [
        "hotel_booking_df['arrival_date_month'].unique()"
      ],
      "metadata": {
        "id": "mTUyfNQvRur4"
      },
      "execution_count": null,
      "outputs": []
    },
    {
      "cell_type": "code",
      "source": [
        "hotel_booking_df['arrival_date_week_number'].unique()"
      ],
      "metadata": {
        "id": "yGlUhTCvSAb2"
      },
      "execution_count": null,
      "outputs": []
    },
    {
      "cell_type": "code",
      "source": [
        "hotel_booking_df['arrival_date_day_of_month'].unique()"
      ],
      "metadata": {
        "id": "PbxFQoxFSK1E"
      },
      "execution_count": null,
      "outputs": []
    },
    {
      "cell_type": "code",
      "source": [
        "hotel_booking_df['stays_in_weekend_nights'].unique()# (Saturday or Sunday)"
      ],
      "metadata": {
        "id": "jGyzPe-nSKxT"
      },
      "execution_count": null,
      "outputs": []
    },
    {
      "cell_type": "code",
      "source": [
        "hotel_booking_df['stays_in_week_nights'].unique()#(Monday to Friday)"
      ],
      "metadata": {
        "id": "UBTRpNc3SL01"
      },
      "execution_count": null,
      "outputs": []
    },
    {
      "cell_type": "code",
      "source": [
        "hotel_booking_df['adults'].unique()"
      ],
      "metadata": {
        "id": "lAf-IIkKSc0t"
      },
      "execution_count": null,
      "outputs": []
    },
    {
      "cell_type": "code",
      "source": [
        "hotel_booking_df['children'].unique()"
      ],
      "metadata": {
        "id": "PmGVoFdXSd6J"
      },
      "execution_count": null,
      "outputs": []
    },
    {
      "cell_type": "code",
      "source": [
        "hotel_booking_df['babies'].unique()"
      ],
      "metadata": {
        "id": "8uChIHA9Skk3"
      },
      "execution_count": null,
      "outputs": []
    },
    {
      "cell_type": "code",
      "source": [
        "hotel_booking_df['meal'].unique()"
      ],
      "metadata": {
        "id": "grSlPgEfR8U9"
      },
      "execution_count": null,
      "outputs": []
    },
    {
      "cell_type": "code",
      "source": [
        "hotel_booking_df['country'].unique()"
      ],
      "metadata": {
        "id": "csLSagtUSogX"
      },
      "execution_count": null,
      "outputs": []
    },
    {
      "cell_type": "code",
      "source": [
        "hotel_booking_df['market_segment'].unique()"
      ],
      "metadata": {
        "id": "RCIHOSVyS2Jg"
      },
      "execution_count": null,
      "outputs": []
    },
    {
      "cell_type": "code",
      "source": [
        "hotel_booking_df['distribution_channel'].unique()"
      ],
      "metadata": {
        "id": "9HGGjN7rS4xk"
      },
      "execution_count": null,
      "outputs": []
    },
    {
      "cell_type": "code",
      "source": [
        "hotel_booking_df['is_repeated_guest'].unique()"
      ],
      "metadata": {
        "id": "f9abJRa_S8QG"
      },
      "execution_count": null,
      "outputs": []
    },
    {
      "cell_type": "code",
      "source": [
        "hotel_booking_df['previous_cancellations'].unique()"
      ],
      "metadata": {
        "id": "C8m_BlewTAd1"
      },
      "execution_count": null,
      "outputs": []
    },
    {
      "cell_type": "code",
      "source": [
        "hotel_booking_df['previous_bookings_not_canceled'].unique()"
      ],
      "metadata": {
        "id": "Kbz-TptYTDDv"
      },
      "execution_count": null,
      "outputs": []
    },
    {
      "cell_type": "code",
      "source": [
        "hotel_booking_df['reserved_room_type'].unique()"
      ],
      "metadata": {
        "id": "_Ea66NDvTHjM"
      },
      "execution_count": null,
      "outputs": []
    },
    {
      "cell_type": "code",
      "source": [
        "hotel_booking_df['assigned_room_type'].unique()"
      ],
      "metadata": {
        "id": "y-_U9HRiTKwp"
      },
      "execution_count": null,
      "outputs": []
    },
    {
      "cell_type": "code",
      "source": [
        "hotel_booking_df['booking_changes'].unique()"
      ],
      "metadata": {
        "id": "gHpNimzPTPV_"
      },
      "execution_count": null,
      "outputs": []
    },
    {
      "cell_type": "code",
      "source": [
        "hotel_booking_df['deposit_type'].unique()"
      ],
      "metadata": {
        "id": "P4GeDEx9TWq0"
      },
      "execution_count": null,
      "outputs": []
    },
    {
      "cell_type": "code",
      "source": [
        "hotel_booking_df['agent'].unique()"
      ],
      "metadata": {
        "id": "NMwoHmEaTZyd"
      },
      "execution_count": null,
      "outputs": []
    },
    {
      "cell_type": "code",
      "source": [
        "hotel_booking_df['company'].unique()"
      ],
      "metadata": {
        "id": "vF7TdQyCTftY"
      },
      "execution_count": null,
      "outputs": []
    },
    {
      "cell_type": "code",
      "source": [
        "hotel_booking_df['days_in_waiting_list'].unique()"
      ],
      "metadata": {
        "id": "CjVUG6EpTjsH"
      },
      "execution_count": null,
      "outputs": []
    },
    {
      "cell_type": "code",
      "source": [
        "hotel_booking_df['customer_type'].unique()"
      ],
      "metadata": {
        "id": "yQsrSoSHTnF-"
      },
      "execution_count": null,
      "outputs": []
    },
    {
      "cell_type": "code",
      "source": [
        "hotel_booking_df['adr'].unique()"
      ],
      "metadata": {
        "id": "DQGanS84TrRA"
      },
      "execution_count": null,
      "outputs": []
    },
    {
      "cell_type": "code",
      "source": [
        "hotel_booking_df['required_car_parking_spaces'].unique()"
      ],
      "metadata": {
        "id": "px6oL1D1TwZu"
      },
      "execution_count": null,
      "outputs": []
    },
    {
      "cell_type": "code",
      "source": [
        "hotel_booking_df['total_of_special_requests'].unique()"
      ],
      "metadata": {
        "id": "GXA9DyTDTzJ4"
      },
      "execution_count": null,
      "outputs": []
    },
    {
      "cell_type": "code",
      "source": [
        "hotel_booking_df['reservation_status'].unique()"
      ],
      "metadata": {
        "id": "l6TJNhGfT2vl"
      },
      "execution_count": null,
      "outputs": []
    },
    {
      "cell_type": "code",
      "source": [
        "hotel_booking_df['reservation_status_date'].unique()"
      ],
      "metadata": {
        "id": "kzPn5y2aT6jo"
      },
      "execution_count": null,
      "outputs": []
    },
    {
      "cell_type": "markdown",
      "source": [
        "## 3. ***Data Wrangling***"
      ],
      "metadata": {
        "id": "dauF4eBmngu3"
      }
    },
    {
      "cell_type": "markdown",
      "source": [
        "### Data Wrangling Code"
      ],
      "metadata": {
        "id": "bKJF3rekwFvQ"
      }
    },
    {
      "cell_type": "code",
      "source": [
        "# main data set in copy data Farme\n",
        "hotel_df = hotel_booking_df.copy()"
      ],
      "metadata": {
        "id": "XLB21d9DxxlM"
      },
      "execution_count": null,
      "outputs": []
    },
    {
      "cell_type": "code",
      "source": [
        "# Write your code to make your dataset analysis ready.\n",
        "# Replacing null values of company, agent and children columns with 0 and country column with 'others'\n",
        "hotel_df[['company','agent','children']] = hotel_df[['company','agent','children']].fillna(0)\n",
        "hotel_df[['country']] = hotel_df[['country']].fillna('others')"
      ],
      "metadata": {
        "id": "wk-9a2fpoLcV"
      },
      "execution_count": null,
      "outputs": []
    },
    {
      "cell_type": "code",
      "source": [
        "hotel_df.isnull().sum().sort_values(ascending=False)"
      ],
      "metadata": {
        "id": "rCi-99CZB6Te"
      },
      "execution_count": null,
      "outputs": []
    },
    {
      "cell_type": "code",
      "source": [
        "#compnay , agent and  children change data type (folat to int)\n",
        "hotel_df[['company','agent','children']] = hotel_df[['company','agent','children']].astype('int64')"
      ],
      "metadata": {
        "id": "Y7yBNuLTmCUG"
      },
      "execution_count": null,
      "outputs": []
    },
    {
      "cell_type": "code",
      "source": [
        "# data datetime format convert\n",
        "hotel_df['reservation_status_date']= pd.to_datetime(hotel_df['reservation_status_date'],format='%Y-%m-%d')"
      ],
      "metadata": {
        "id": "WZBWtbYLy9bU"
      },
      "execution_count": null,
      "outputs": []
    },
    {
      "cell_type": "code",
      "source": [
        "#check num of  duplicate values  in the data\n",
        "hotel_df.duplicated().sum()"
      ],
      "metadata": {
        "id": "Fn-vrWULo53R"
      },
      "execution_count": null,
      "outputs": []
    },
    {
      "cell_type": "code",
      "source": [
        "hotel_df.drop_duplicates(inplace=True)"
      ],
      "metadata": {
        "id": "yc6EXovJrQSw"
      },
      "execution_count": null,
      "outputs": []
    },
    {
      "cell_type": "code",
      "source": [
        "## Add a new columns in dataset\n",
        "# sum of total of stays_in_week_nights(Monday to Friday) and stays_in_weekend_nights(Saturday and Sunday)\n",
        "hotel_df['total_stays_hotel'] = hotel_df['stays_in_week_nights'] + hotel_df['stays_in_weekend_nights']"
      ],
      "metadata": {
        "id": "WLYglV5h2dW3"
      },
      "execution_count": null,
      "outputs": []
    },
    {
      "cell_type": "code",
      "source": [
        "# new columms total_gusests\n",
        "hotel_df['total_guests'] = hotel_df['adults'] + hotel_df['children'] + hotel_df['babies']"
      ],
      "metadata": {
        "id": "sK8bcpj-2fQ8"
      },
      "execution_count": null,
      "outputs": []
    },
    {
      "cell_type": "code",
      "source": [
        "hotel_df.shape"
      ],
      "metadata": {
        "id": "TF6DoIhkrTDn"
      },
      "execution_count": null,
      "outputs": []
    },
    {
      "cell_type": "code",
      "source": [
        "hotel_df.info()"
      ],
      "metadata": {
        "id": "RD_msb4prs_q"
      },
      "execution_count": null,
      "outputs": []
    },
    {
      "cell_type": "markdown",
      "source": [
        "### What all manipulations have you done and insights you found?"
      ],
      "metadata": {
        "id": "MSa1f5Uengrz"
      }
    },
    {
      "cell_type": "markdown",
      "source": [
        "This dataset in insights found missing values in columns like children, country, agent, and company.\n",
        "This is missing values columns in **agent, company, and children replaced with 0** and country in miss values replaced to **others**.\n",
        "the changes of datatype reservation_status_date from object to **datetime** and agent and company were converted to an **integer**.\n",
        "Create two new columns and add total_total_stays_hotel and total_guetes.\n",
        "This dataset also contained duplicate values, so duplicate values were dropped.\n"
      ],
      "metadata": {
        "id": "LbyXE7I1olp8"
      }
    },
    {
      "cell_type": "markdown",
      "source": [
        "## ***4. Data Vizualization, Storytelling & Experimenting with charts : Understand the relationships between variables***"
      ],
      "metadata": {
        "id": "GF8Ens_Soomf"
      }
    },
    {
      "cell_type": "markdown",
      "source": [
        "#### Chart - 1"
      ],
      "metadata": {
        "id": "0wOQAZs5pc--"
      }
    },
    {
      "cell_type": "code",
      "source": [
        "# Chart - 1 visualization code\n",
        "# Which hotel type has more bookings ?\n",
        "# Plot a pie chart\n",
        "hotel_counts = hotel_df['hotel'].value_counts()\n",
        "plt.figure(figsize=(8, 5))\n",
        "# this dataset in number of total hotel in values count percentage showing data\n",
        "plt.pie(hotel_df['hotel'].value_counts().values, labels=hotel_counts.index ,explode=(0,0.04),shadow=True, autopct='%1.1f%%',startangle=90)\n",
        "plt.title('Distribution of Hotel Types', fontsize=16)\n",
        "plt.show()\n",
        "print(hotel_counts)"
      ],
      "metadata": {
        "id": "7v_ESjsspbW7"
      },
      "execution_count": null,
      "outputs": []
    },
    {
      "cell_type": "markdown",
      "source": [
        "##### 1. Why did you pick the specific chart?"
      ],
      "metadata": {
        "id": "K5QZ13OEpz2H"
      }
    },
    {
      "cell_type": "markdown",
      "source": [
        "I am pick a pie chart to visualize **Which Hotel type has more bookings.**\n",
        "This chart use category percentage values show."
      ],
      "metadata": {
        "id": "XESiWehPqBRc"
      }
    },
    {
      "cell_type": "markdown",
      "source": [
        "##### 2. What is/are the insight(s) found from the chart?"
      ],
      "metadata": {
        "id": "lQ7QKXXCp7Bj"
      }
    },
    {
      "cell_type": "markdown",
      "source": [
        "The chart shows that **City Hotel** is the most preferred, with **61.1%(53428)** of the bookings, while **Resort Hotel** has only **38.9%(33968)**.City Hotel attracts more guests compared to Resort Hotel."
      ],
      "metadata": {
        "id": "C_j1G7yiqdRP"
      }
    },
    {
      "cell_type": "markdown",
      "source": [
        "##### 3. Will the gained insights help creating a positive business impact?\n",
        "Are there any insights that lead to negative growth? Justify with specific reason."
      ],
      "metadata": {
        "id": "448CDAPjqfQr"
      }
    },
    {
      "cell_type": "markdown",
      "source": [
        "The insights show that City Hotels are doing well and attracting more guests by providing additional services, which helps increase their revenue. However, Resort Hotels have fewer bookings, indicating that guests are less interested in them compared to City Hotels.\n",
        " To improve,Resort Hotels need to upgrade their services, market more effectively, and learn from the success of City Hotels to avoid further decline and attract more guests."
      ],
      "metadata": {
        "id": "3cspy4FjqxJW"
      }
    },
    {
      "cell_type": "markdown",
      "source": [
        "#### Chart - 2"
      ],
      "metadata": {
        "id": "KSlN3yHqYklG"
      }
    },
    {
      "cell_type": "code",
      "source": [
        "# Chart - 2 visualization code\n",
        "# What is a year wise cancelaltion by hotel types?     #bivariate analysis\n",
        "# Filter cancelled bookings\n",
        "hotel_canceled_df =hotel_df[hotel_df['is_canceled'] == 1 ]# this is_canceled column in canceled data filter by city and resort hotel\n",
        "plt.figure(figsize=(12, 6))\n",
        "plt.subplot(1, 2, 1)\n",
        "sns.set_style('whitegrid')\n",
        "sns.countplot(x=hotel_canceled_df['arrival_date_year'],hue=hotel_canceled_df['hotel'])\n",
        "plt.legend()\n",
        "plt.title('Year-wise Cancellations by Hotel Type',fontsize=14)\n",
        "plt.xlabel('year',fontsize=14)\n",
        "plt.ylabel('No. of bookings cancelaltion',fontsize=14)\n",
        "plt.subplot(1, 2, 2)\n",
        "#using pie chart to find out %age of Booking cancelaltion over 3 years\n",
        "plt.pie(x=hotel_canceled_df.hotel.value_counts(),labels=['City hotel','Resort hotel'],startangle=90,autopct=\"%0.1f%%\",shadow=True,textprops={'fontsize':12},colors=sns.color_palette('pastel'))\n",
        "plt.legend(bbox_to_anchor=(1,1))\n",
        "plt.title('Hotel Booking cancelaltion')\n",
        "plt.subplots_adjust(right=1.0)\n",
        "plt.tight_layout()\n",
        "plt.show()"
      ],
      "metadata": {
        "id": "R4YgtaqtYklH"
      },
      "execution_count": null,
      "outputs": []
    },
    {
      "cell_type": "markdown",
      "source": [
        "##### 1. Why did you pick the specific chart?"
      ],
      "metadata": {
        "id": "t6dVpIINYklI"
      }
    },
    {
      "cell_type": "markdown",
      "source": [
        "\n",
        "I am pick to countplot chart visualization to **What is a year wise cancelaltion by hotel types.?**\n",
        "This makes it easy to year wise compare the cancellation status for City Hotels and Resort Hotels visually, highlighting differences and patterns clearly.\n"
      ],
      "metadata": {
        "id": "5aaW0BYyYklI"
      }
    },
    {
      "cell_type": "markdown",
      "source": [
        "##### 2. What is/are the insight(s) found from the chart?"
      ],
      "metadata": {
        "id": "ijmpgYnKYklI"
      }
    },
    {
      "cell_type": "markdown",
      "source": [
        "This is visualization chart in insight City Hotels have a higher number of cancellations compared to Resort Hotels.\n",
        "This is the insight of 3 year **city hotels overall 66.8% and resort hotels 33.2% cancellations compared** to data.This is a year of 2016 with the most No of bookings cancellations by City Hotel compared to Resort Hotel.\n",
        "\n"
      ],
      "metadata": {
        "id": "PSx9atu2YklI"
      }
    },
    {
      "cell_type": "markdown",
      "source": [
        "##### 3. Will the gained insights help creating a positive business impact?\n",
        "Are there any insights that lead to negative growth? Justify with specific reason."
      ],
      "metadata": {
        "id": "-JiQyfWJYklI"
      }
    },
    {
      "cell_type": "markdown",
      "source": [
        "This is insights a negative growth a City hotels have a higher cancellations compared to Resort hotels.\n",
        "High cancellations show They can fix this by offering better prices, flexible booking options, or improving guest experiences.These changes will reduce cancellations and help increase revenue.\n",
        "Promoting their reliability can attract more bookings and grow their business."
      ],
      "metadata": {
        "id": "BcBbebzrYklV"
      }
    },
    {
      "cell_type": "markdown",
      "source": [
        "#### Chart - 3"
      ],
      "metadata": {
        "id": "EM7whBJCYoAo"
      }
    },
    {
      "cell_type": "code",
      "source": [
        "# Chart - 3 visualization code\n",
        "# Which booking by hotel is the Top 10 country?\n",
        "\n",
        "# Group by hotel type and country,count the number of bookings\n",
        "hotel_country_counts = (\n",
        "    hotel_df.groupby(['hotel', 'country']).size()\n",
        "    .reset_index(name='TotalBookings').sort_values(by='TotalBookings',ascending=False))#this Totalbookings new colums count data hotel\n",
        "\n",
        "# Get the top 10 countries with the most bookings for each hotel type\n",
        "top_countries = (hotel_country_counts.groupby('country')['TotalBookings'].sum()\n",
        "    .nlargest(10)# this filter to largest vaules data show\n",
        "    .index)\n",
        "\n",
        "country_filtered_df = hotel_country_counts[hotel_country_counts['country'].isin(top_countries)]"
      ],
      "metadata": {
        "id": "cdYZLGQQkNDR"
      },
      "execution_count": null,
      "outputs": []
    },
    {
      "cell_type": "code",
      "source": [
        "city_df = hotel_df[(hotel_df['hotel'] == 'City Hotel')]\n",
        "hotel_country_group= city_df.groupby('country').size().reset_index(name='CityTotalBookings')\n",
        "hotel_country_group.sort_values(by='CityTotalBookings',ascending=False).head(10)"
      ],
      "metadata": {
        "id": "Lz2Yp3T7cwZ_"
      },
      "execution_count": null,
      "outputs": []
    },
    {
      "cell_type": "code",
      "source": [
        "resort_df = hotel_df[(hotel_df['hotel'] == 'Resort Hotel')]\n",
        "hotel_country_group_r= resort_df.groupby('country').size().reset_index(name='ResortTotalBookings')\n",
        "hotel_country_group_r.sort_values(by='ResortTotalBookings',ascending=False).head(10)"
      ],
      "metadata": {
        "id": "z6Useh8BkmA4"
      },
      "execution_count": null,
      "outputs": []
    },
    {
      "cell_type": "code",
      "source": [
        "# Visualization\n",
        "plt.figure(figsize=(12, 6))\n",
        "sns.set_style('whitegrid')\n",
        "\n",
        "sns.barplot(\n",
        "    data=country_filtered_df,\n",
        "    x='country',\n",
        "    y='TotalBookings',\n",
        "    hue='hotel',\n",
        "    palette='viridis'\n",
        ")\n",
        "# Chart Details\n",
        "plt.title('Top 10 Countries by Hotel Type Bookings', fontsize=14)\n",
        "plt.xlabel('Country', fontsize=10)\n",
        "plt.ylabel('Number of Bookings', fontsize=10)\n",
        "plt.xticks(rotation=45)\n",
        "plt.legend(title='Hotel Type')\n",
        "plt.tight_layout()\n",
        "plt.show()\n"
      ],
      "metadata": {
        "id": "Pr09EO7J8Bty"
      },
      "execution_count": null,
      "outputs": []
    },
    {
      "cell_type": "markdown",
      "source": [
        "##### 1. Why did you pick the specific chart?"
      ],
      "metadata": {
        "id": "fge-S5ZAYoAp"
      }
    },
    {
      "cell_type": "markdown",
      "source": [
        "I am pick to barplot chart to visualization **Which booking by hotel is the Top 10 country?**.This chart no.of bookings for each country side by side, making it easy to compare values."
      ],
      "metadata": {
        "id": "5dBItgRVYoAp"
      }
    },
    {
      "cell_type": "markdown",
      "source": [
        "##### 2. What is/are the insight(s) found from the chart?"
      ],
      "metadata": {
        "id": "85gYPyotYoAp"
      }
    },
    {
      "cell_type": "markdown",
      "source": [
        "This is a insight found form the chart Highlight which booking by hotel type is more popular in the top countries.this is observation of a City Hotels are the most booked in countries like Portugal and United Kingdom.\n",
        "Resort Hotels are more popular in Portugal and Spain.\n",
        "Germany and France have a balanced Normal booking of both types of hotels."
      ],
      "metadata": {
        "id": "4jstXR6OYoAp"
      }
    },
    {
      "cell_type": "markdown",
      "source": [
        "##### 3. Will the gained insights help creating a positive business impact?\n",
        "Are there any insights that lead to negative growth? Justify with specific reason."
      ],
      "metadata": {
        "id": "RoGjAbkUYoAp"
      }
    },
    {
      "cell_type": "markdown",
      "source": [
        "This is insight in positive business impact to Portugal and United Kingdom Perfect for expanding Resort Hotels and City Hotels United Kingdom, France, and Germany are key markets for urban accommodations, ideal for business-focused promotions.\n",
        "City Hotels and Resort Hotels should focus on countries where they are most popular and improve in countries where they are not performing well. By using better marketing, competitive pricing, and enhancing guest experiences based on local preferences, they can grow their business and avoid losing potential customers."
      ],
      "metadata": {
        "id": "zfJ8IqMcYoAp"
      }
    },
    {
      "cell_type": "markdown",
      "source": [
        "#### Chart - 4"
      ],
      "metadata": {
        "id": "4Of9eVA-YrdM"
      }
    },
    {
      "cell_type": "code",
      "source": [
        "# Chart - 4 visualization code\n",
        "# Which most profitable year-wise for individually by hotel ?\n",
        "\n",
        "# Add a column for total revenue (ADR * total_guests * total_stays_hotel)\n",
        "hotel_df['total_revenue'] = hotel_df['adr'] * hotel_df['total_guests'] * hotel_df['total_stays_hotel']\n",
        "#  Group by hotel type and year, summing the total revenue\n",
        "revenue_by_year = hotel_df.groupby(['hotel', 'arrival_date_year'])['total_revenue'].sum().reset_index()\n",
        "# most profitable year for each hotel\n",
        "most_profitable_year = revenue_by_year.loc[revenue_by_year.groupby('hotel')['total_revenue'].idxmax()]\n",
        "# Group revenue for a specific hotel\n",
        "city_hotel_revenue = revenue_by_year[revenue_by_year['hotel'] == 'City Hotel']\n",
        "resort_hotel_revenue = revenue_by_year[revenue_by_year['hotel'] == 'Resort Hotel']\n",
        "\n",
        "# Plot pie charts\n",
        "fig, axes = plt.subplots(1, 2, figsize=(12, 4))\n",
        "\n",
        "axes[0].pie(city_hotel_revenue['total_revenue'], labels=city_hotel_revenue['arrival_date_year'],\n",
        "            autopct='%1.1f%%', startangle=140, colors=sns.color_palette('pastel'))\n",
        "axes[0].set_title('City Hotel Revenue Distribution by Year',fontsize=10)\n",
        "\n",
        "axes[1].pie(resort_hotel_revenue['total_revenue'], labels=resort_hotel_revenue['arrival_date_year'],\n",
        "            autopct='%1.1f%%', startangle=140, colors=sns.color_palette('pastel'))\n",
        "axes[1].set_title('Resort Hotel Revenue Distribution by Year',fontsize=10)\n",
        "\n",
        "plt.tight_layout()\n",
        "plt.show()\n",
        "print(most_profitable_year)"
      ],
      "metadata": {
        "id": "irlUoxc8YrdO"
      },
      "execution_count": null,
      "outputs": []
    },
    {
      "cell_type": "markdown",
      "source": [
        "##### 1. Why did you pick the specific chart?"
      ],
      "metadata": {
        "id": "iky9q4vBYrdO"
      }
    },
    {
      "cell_type": "markdown",
      "source": [
        "I am pick Pie Chart to **Which most profitable year-wise for individually by hotel. ?** This chart use category percentage values show."
      ],
      "metadata": {
        "id": "aJRCwT6DYrdO"
      }
    },
    {
      "cell_type": "markdown",
      "source": [
        "##### 2. What is/are the insight(s) found from the chart?"
      ],
      "metadata": {
        "id": "F6T5p64dYrdO"
      }
    },
    {
      "cell_type": "markdown",
      "source": [
        "This is a insight to The pie chart clearly shows how much revenue each year contributed to the total income of each hotel type.\n",
        "For City Hotels, the **year 2016** was the most profitable, contributing **47.8%** of the revenue.and In comparison, the year **2017** contributed less, accounting for **43.9%** of the total revenue.**Resort hotel** to chart to visualization a most profitable **year of the 2017(41.2%)** total revenue."
      ],
      "metadata": {
        "id": "Xx8WAJvtYrdO"
      }
    },
    {
      "cell_type": "markdown",
      "source": [
        "##### 3. Will the gained insights help creating a positive business impact?\n",
        "Are there any insights that lead to negative growth? Justify with specific reason."
      ],
      "metadata": {
        "id": "y-Ehk30pYrdP"
      }
    },
    {
      "cell_type": "markdown",
      "source": [
        "The insight positive business impact to resort hotel 2017 years revenue increase comparison, the years of 2015 and 2016 had a good impact.City Hotel saw a decline in revenue in 2015, but it increased in 2016. However, 2017 revenue was low compared to 2016. This observation indicates that City Hotel negative growth compared to Resort Hotel is very low.To attract more guests, targeted campaigns and seasonal discounts can be based on years with higher revenue.If Month has more bookings, hire more staff and create special offers to handle the demand and improve results."
      ],
      "metadata": {
        "id": "GqlxkXumLda7"
      }
    },
    {
      "cell_type": "markdown",
      "source": [
        "#### Chart - 5"
      ],
      "metadata": {
        "id": "bamQiAODYuh1"
      }
    },
    {
      "cell_type": "code",
      "source": [
        "# Chart - 5 visualization code\n",
        "# Which type of market segment and distribution channels ?\n",
        "plt.figure(figsize=(12, 6))\n",
        "plt.subplot(1, 2, 1)\n",
        "sns.countplot(data=hotel_df,x='market_segment',palette='viridis')\n",
        "plt.title('Types of market segment',fontweight=\"bold\", size=16)\n",
        "plt.xlabel('Market Segment', fontsize=14)\n",
        "plt.ylabel('No.of Booking', fontsize=14)\n",
        "plt.xticks(rotation=45, ha='right')  # Rotate x-axis labels for better readability\n",
        "plt.subplot(1, 2, 2)\n",
        "# Create a horizontal bar chart\n",
        "sns.countplot(data=hotel_df, x='distribution_channel', palette='viridis')\n",
        "# Add labels and title\n",
        "plt.title('Distribution Channels by Booking Count', fontweight=\"bold\", size=16)\n",
        "plt.xlabel('No. of Bookings', fontsize=14)\n",
        "plt.ylabel('Distribution Channel', fontsize=14)\n",
        "plt.xticks(rotation=45, ha='right')\n",
        "plt.tight_layout()\n",
        "plt.show()\n",
        "\n",
        "plt.subplots_adjust(right=1.6)\n",
        "plt.show()"
      ],
      "metadata": {
        "id": "TIJwrbroYuh3"
      },
      "execution_count": null,
      "outputs": []
    },
    {
      "cell_type": "code",
      "source": [
        "hotel_df['distribution_channel'].value_counts(normalize=True)"
      ],
      "metadata": {
        "id": "Fww235Jus5bO"
      },
      "execution_count": null,
      "outputs": []
    },
    {
      "cell_type": "markdown",
      "source": [
        "##### 1. Why did you pick the specific chart?"
      ],
      "metadata": {
        "id": "QHF8YVU7Yuh3"
      }
    },
    {
      "cell_type": "markdown",
      "source": [
        "I am pick to the Countplot Chart booking distribution **Which type of market segment and distribution channels ?**"
      ],
      "metadata": {
        "id": "dcxuIMRPYuh3"
      }
    },
    {
      "cell_type": "markdown",
      "source": [
        "##### 2. What is/are the insight(s) found from the chart?"
      ],
      "metadata": {
        "id": "GwzvFGzlYuh3"
      }
    },
    {
      "cell_type": "markdown",
      "source": [
        "The insights from the Chart Market Segment and Distribution Channel in most booking Online travel/offline agencies like Website a (Booking.com,EasyMakeMyTrip.com)and other etc.more booking wesite."
      ],
      "metadata": {
        "id": "uyqkiB8YYuh3"
      }
    },
    {
      "cell_type": "markdown",
      "source": [
        "##### 3. Will the gained insights help creating a positive business impact?\n",
        "Are there any insights that lead to negative growth? Justify with specific reason."
      ],
      "metadata": {
        "id": "qYpmQ266Yuh3"
      }
    },
    {
      "cell_type": "markdown",
      "source": [
        "Online Travel/Offline Agencies (like online WebSite ) are the most used distribution channels, so hotels should focus on strengthening these partnerships.\n",
        "market segment and distribution channel can provide insights into guest preferences and help optimize marketing and operational strategies."
      ],
      "metadata": {
        "id": "_WtzZ_hCYuh4"
      }
    },
    {
      "cell_type": "markdown",
      "source": [
        "#### Chart - 6"
      ],
      "metadata": {
        "id": "OH-pJp9IphqM"
      }
    },
    {
      "cell_type": "markdown",
      "source": [
        "This selects the lead_time column from the grouped DataFrame. The lead_time column represents the number of days between when the booking was made and the expected arrival date."
      ],
      "metadata": {
        "id": "lneuRcpwphh4"
      }
    },
    {
      "cell_type": "code",
      "source": [
        "# Chart - 6 visualization code\n",
        "# Which Hotel Type (Resort or City) Has a Longer Lead Time for Each Month?\n",
        "month_list = ['January', 'February', 'March', 'April', 'May', 'June', 'July', 'August', 'September', 'October', 'November', 'December']\n",
        "# Group by 'arrival_date_month' and calculate the average 'lead_time'\n",
        "lead_time_by_month = hotel_df.groupby(['arrival_date_month','hotel'])['lead_time'].mean().reset_index()\n",
        "# Sort the months in order (optional)\n",
        "lead_time_by_month['arrival_date_month'] = pd.Categorical(lead_time_by_month['arrival_date_month'], categories= month_list, ordered=True)\n",
        "lead_time_by_month = lead_time_by_month.sort_values('arrival_date_month').reset_index(drop=True)\n",
        "\n",
        "plt.figure(figsize=(15, 6))\n",
        "sns.barplot(data=lead_time_by_month, x='arrival_date_month', y='lead_time',hue='hotel', palette='viridis')\n",
        "# Customize the plot\n",
        "plt.title('Lead Time by Month for Different Hotel Types')\n",
        "plt.xlabel('Arrival Month',fontsize=14)\n",
        "plt.ylabel('Average Lead Time (days)', fontsize=14)\n",
        "plt.xticks(rotation=45)  # Rotate month labels for better readability\n",
        "\n",
        "plt.tight_layout()\n",
        "plt.show()\n",
        "#print(lead_time_by_month)"
      ],
      "metadata": {
        "id": "v22dJMO-pitS"
      },
      "execution_count": null,
      "outputs": []
    },
    {
      "cell_type": "markdown",
      "source": [
        "##### 1. Why did you pick the specific chart?"
      ],
      "metadata": {
        "id": "bbFf2-_FphqN"
      }
    },
    {
      "cell_type": "markdown",
      "source": [
        "I am pick to Barplot this chart in visually to **Which Hotel Type (Resort or City) Has a Longer Lead Time for Each Month?** This is compared to city and resort hotels arrival each month."
      ],
      "metadata": {
        "id": "loh7H2nzphqN"
      }
    },
    {
      "cell_type": "markdown",
      "source": [
        "##### 2. What is/are the insight(s) found from the chart?"
      ],
      "metadata": {
        "id": "_ouA3fa0phqN"
      }
    },
    {
      "cell_type": "markdown",
      "source": [
        "The visual insight in City hotels lead time is high in\n",
        "**July and August** compared to Resort Hotels.The visual insight in seasonal planning tends to pattern this."
      ],
      "metadata": {
        "id": "VECbqPI7phqN"
      }
    },
    {
      "cell_type": "markdown",
      "source": [
        "##### 3. Will the gained insights help creating a positive business impact?\n",
        "Are there any insights that lead to negative growth? Justify with specific reason."
      ],
      "metadata": {
        "id": "Seke61FWphqN"
      }
    },
    {
      "cell_type": "markdown",
      "source": [
        "This has a positive business impact on the Resort hotel longer lead time and advances booking planning trends. this negative impact on city hotel short lead time so more offers and discounts to the promoting.balanced approach considering both advance bookings and last-minute offers is essential for sustainable growth."
      ],
      "metadata": {
        "id": "DW4_bGpfphqN"
      }
    },
    {
      "cell_type": "markdown",
      "source": [
        "#### Chart - 7"
      ],
      "metadata": {
        "id": "PIIx-8_IphqN"
      }
    },
    {
      "cell_type": "code",
      "source": [
        "# Chart - 7 visualization code\n",
        "# What is a most preferred length of stay by the guests\n",
        "\n",
        "stay = hotel_df[hotel_df['total_stays_hotel'] < 12]\n",
        "plt.figure(figsize=(12, 6))\n",
        "sns.countplot(x='total_stays_hotel', hue='hotel', data=stay, palette='viridis')\n",
        "plt.title('Preferred Length of Stay by Hotel Type', fontsize=14)\n",
        "plt.xlabel('Total Length of Stay', fontsize=10)\n",
        "plt.ylabel('Number of Bookings', fontsize=10)\n",
        "plt.xticks(rotation=45)\n",
        "plt.legend(title='Hotel Type')\n",
        "plt.tight_layout()\n",
        "plt.show()\n"
      ],
      "metadata": {
        "id": "GbjiHTqqHRHW"
      },
      "execution_count": null,
      "outputs": []
    },
    {
      "cell_type": "markdown",
      "source": [
        "##### 1. Why did you pick the specific chart?"
      ],
      "metadata": {
        "id": "t27r6nlMphqO"
      }
    },
    {
      "cell_type": "markdown",
      "source": [
        "I am pick to countplot chart a **most preferred length of stay by the guests, you can analyze the total nights stayed**, which is the sum of weekend nights and week nights for each booking."
      ],
      "metadata": {
        "id": "XZp4lGpBNboZ"
      }
    },
    {
      "cell_type": "markdown",
      "source": [
        "##### 2. What is/are the insight(s) found from the chart?"
      ],
      "metadata": {
        "id": "r2jJGEOYphqO"
      }
    },
    {
      "cell_type": "markdown",
      "source": [
        "The insight to sum of total stays both hotel guests prefer short stays (1-2 nights) or longer stays(3-4 days).\n",
        "* City  hotel maximum (3-4 days) stays .\n",
        "* Resort hotel  maximum (1-2 dys ) stays."
      ],
      "metadata": {
        "id": "Po6ZPi4hphqO"
      }
    },
    {
      "cell_type": "markdown",
      "source": [
        "##### 3. Will the gained insights help creating a positive business impact?\n",
        "Are there any insights that lead to negative growth? Justify with specific reason."
      ],
      "metadata": {
        "id": "b0JNsNcRphqO"
      }
    },
    {
      "cell_type": "markdown",
      "source": [
        "This is the total number of bookings and the average stays in both hotels for 2-3 days of stay guests. This is an insight into seasonal trends offers, pricing adjustments, and marketing campaigns that can be tailored to capitalize on holiday trends. Offer weekend packages or discounts for short stays to attract more guests."
      ],
      "metadata": {
        "id": "xvSq8iUTphqO"
      }
    },
    {
      "cell_type": "markdown",
      "source": [
        "#### Chart - 8"
      ],
      "metadata": {
        "id": "BZR9WyysphqO"
      }
    },
    {
      "cell_type": "code",
      "source": [
        "# Chart - 8 visualization code\n",
        "# Which Hotels has the Percentage of repeated guests?\n",
        "# repeated guests vs first-time guests?\n",
        "plt.figure(figsize=(7, 7))\n",
        "plt.pie(x=hotel_df['is_repeated_guest'].value_counts(),labels=['0 New guests', '1 Repeated guests'],\n",
        "        startangle=360,autopct=\"%0.1f%%\",shadow=True,textprops={'fontsize':12},colors=sns.color_palette('pastel'))\n",
        "plt.legend(bbox_to_anchor=(1,1))\n",
        "plt.title('Percentage of repeated guests')\n",
        "plt.tight_layout()\n",
        "plt.show()\n"
      ],
      "metadata": {
        "id": "TdPTWpAVphqO"
      },
      "execution_count": null,
      "outputs": []
    },
    {
      "cell_type": "markdown",
      "source": [
        "##### 1. Why did you pick the specific chart?"
      ],
      "metadata": {
        "id": "jj7wYXLtphqO"
      }
    },
    {
      "cell_type": "markdown",
      "source": [
        "I am pick to Pie chart Percentage of repeated VS new guests.**Which Hotels has the Percentage of repeated guests?**"
      ],
      "metadata": {
        "id": "Ob8u6rCTphqO"
      }
    },
    {
      "cell_type": "markdown",
      "source": [
        "##### 2. What is/are the insight(s) found from the chart?"
      ],
      "metadata": {
        "id": "eZrbJ2SmphqO"
      }
    },
    {
      "cell_type": "markdown",
      "source": [
        "This ia a chart the insight Percentage of repeated guests and new gutes bookings.\n",
        "This is **City and Resort Hotels 3.9% a repeated gutes and 96.1% new gutes** hotels bookings"
      ],
      "metadata": {
        "id": "mZtgC_hjphqO"
      }
    },
    {
      "cell_type": "markdown",
      "source": [
        "##### 3. Will the gained insights help creating a positive business impact?\n",
        "Are there any insights that lead to negative growth? Justify with specific reason."
      ],
      "metadata": {
        "id": "rFu4xreNphqO"
      }
    },
    {
      "cell_type": "markdown",
      "source": [
        "This is insights impact to first-time guests can be targeted with welcome offers or follow-up campaigns to convert them into repeat customers.This is negative impact may indicate customer dissatisfaction.Improve services based on feedback."
      ],
      "metadata": {
        "id": "ey_0qi68phqO"
      }
    },
    {
      "cell_type": "markdown",
      "source": [
        "#### Chart - 9"
      ],
      "metadata": {
        "id": "YJ55k-q6phqO"
      }
    },
    {
      "cell_type": "code",
      "source": [
        "# Chart - 9 visualization code\n",
        "# What is a month in room price high each hotel type?\n",
        "month_list = ['January', 'February', 'March', 'April', 'May', 'June', 'July', 'August', 'September', 'October', 'November', 'December']\n",
        "# Group by 'arrival_date_month' and calculate the average 'adr'\n",
        "adr_time_by_month = hotel_df.groupby(['arrival_date_month','hotel'])['adr'].mean().reset_index()\n",
        "# Sort the months in order (optional)\n",
        "adr_time_by_month['arrival_date_month'] = pd.Categorical(adr_time_by_month['arrival_date_month'], categories= month_list, ordered=True)\n",
        "adr_time_by_month = adr_time_by_month.sort_values('arrival_date_month').reset_index(drop=True)\n",
        "adr_time_by_month\n",
        "plt.figure(figsize=(14, 6))\n",
        "sns.lineplot(data=adr_time_by_month, x='arrival_date_month', y='adr',hue='hotel', palette='viridis')\n",
        "# # Customize the plot\n",
        "plt.title('Average Daily Rate (ADR) of the Month Each hotel')\n",
        "plt.xlabel('Month',fontsize=14)\n",
        "plt.ylabel('Average Daily Rate (ADR)', fontsize=14)\n",
        "plt.xticks(rotation=45)  # Rotate month labels for better readability\n",
        "\n",
        "plt.tight_layout()\n",
        "plt.show()\n"
      ],
      "metadata": {
        "id": "uw7IDkNHVdSw"
      },
      "execution_count": null,
      "outputs": []
    },
    {
      "cell_type": "markdown",
      "source": [
        "##### 1. Why did you pick the specific chart?"
      ],
      "metadata": {
        "id": "gCFgpxoyphqP"
      }
    },
    {
      "cell_type": "markdown",
      "source": [
        "I am Pick chart to lineplot **What is a month in room price high each hotel type?** this chart is a month wise trend highest average rates each hotels."
      ],
      "metadata": {
        "id": "TVxDimi2phqP"
      }
    },
    {
      "cell_type": "markdown",
      "source": [
        "##### 2. What is/are the insight(s) found from the chart?"
      ],
      "metadata": {
        "id": "OVtJsKN_phqQ"
      }
    },
    {
      "cell_type": "markdown",
      "source": [
        "This is insight to seasonal trends, resort hotels generally see their highest Average Daily Rate (ADR) during the summer months of June, July, and August, while city hotels trends to have their mid-range ADR during the spring period of April, May, and June.\n"
      ],
      "metadata": {
        "id": "ngGi97qjphqQ"
      }
    },
    {
      "cell_type": "markdown",
      "source": [
        "##### 3. Will the gained insights help creating a positive business impact?\n",
        "Are there any insights that lead to negative growth? Justify with specific reason."
      ],
      "metadata": {
        "id": "lssrdh5qphqQ"
      }
    },
    {
      "cell_type": "markdown",
      "source": [
        " The insights gained from the analysis can significantly business impact hotels in highest ADR months seasonal trends pricing strategies can maximize revenue during peak seasons.ADR trends helps optimize pricing strategies and boost profitability while staying competitive in the market.You may observe that certain months (e.g., holidays, summer) have higher room rates due to increased demand."
      ],
      "metadata": {
        "id": "hulmpiYA_KKq"
      }
    },
    {
      "cell_type": "markdown",
      "source": [
        "#### Chart - 10"
      ],
      "metadata": {
        "id": "U2RJ9gkRphqQ"
      }
    },
    {
      "cell_type": "code",
      "source": [
        "# Chart - 10 visualization code\n",
        "# Which meal plan is the most preferred by guests?\n",
        "plt.figure(figsize=(12, 6))\n",
        "plt.subplot(1, 2, 1)\n",
        "sns.countplot(x='meal', data=hotel_df,hue='hotel', palette='viridis')\n",
        "plt.title('Meal Plan Distribution', fontsize=14)\n",
        "plt.xlabel('Meal Plan', fontsize=10)\n",
        "plt.ylabel('Count', fontsize=10)\n",
        "plt.xticks(rotation=45)\n",
        "plt.subplot(1, 2, 2)\n",
        "plt.pie(x=hotel_df['meal'].value_counts(),labels=hotel_df['meal'].value_counts().index,\n",
        "        startangle=360,autopct=\"%0.1f%%\",shadow=True,textprops={'fontsize':12},colors=sns.color_palette('pastel'))\n",
        "plt.legend(bbox_to_anchor=(1,1))\n",
        "plt.title('Percentage of Meal Plans')\n",
        "plt.subplots_adjust(right=1.0)\n",
        "plt.tight_layout()\n",
        "plt.show()"
      ],
      "metadata": {
        "id": "GM7a4YP4phqQ"
      },
      "execution_count": null,
      "outputs": []
    },
    {
      "cell_type": "markdown",
      "source": [
        "##### 1. Why did you pick the specific chart?"
      ],
      "metadata": {
        "id": "1M8mcRywphqQ"
      }
    },
    {
      "cell_type": "markdown",
      "source": [
        "I am pick to countplot and Pie chart.This chart a count to hotels wise meal plan distribution.**Which meal plan is the most preferred by guests?**"
      ],
      "metadata": {
        "id": "8agQvks0phqQ"
      }
    },
    {
      "cell_type": "markdown",
      "source": [
        "meal :- Kind of meal opted for\n",
        "*   BB :- Bed & Breakfast\n",
        "*   FB :- Full Board (Beakfast, Lunch and Dinner)\n",
        "*   FB :- Full Board (Beakfast, Lunch and Dinner)\n",
        "*   HB :- Half Board (Breakfast and Dinner normally)\n",
        "*   SC/Undefined :- no meal opted"
      ],
      "metadata": {
        "id": "l3MxYUdCRRIK"
      }
    },
    {
      "cell_type": "markdown",
      "source": [
        "##### 2. What is/are the insight(s) found from the chart?"
      ],
      "metadata": {
        "id": "tgIPom80phqQ"
      }
    },
    {
      "cell_type": "markdown",
      "source": [
        "This is a chart insight mostly gutes meal paln **City and Resort Hotels 78% BB(Bed&Breakfast) plan choose.**\n"
      ],
      "metadata": {
        "id": "Qp13pnNzphqQ"
      }
    },
    {
      "cell_type": "markdown",
      "source": [
        "##### 3. Will the gained insights help creating a positive business impact?\n",
        "Are there any insights that lead to negative growth? Justify with specific reason."
      ],
      "metadata": {
        "id": "JMzcOPDDphqR"
      }
    },
    {
      "cell_type": "markdown",
      "source": [
        "The insights creating a positive business impact mostly gutes hotel meal plan BB(Beb&Breakfast) Choose.this is insights gutes meal preferences to design custom packages for long-stay or frequent travelers.improving satisfaction and loyalty."
      ],
      "metadata": {
        "id": "R4Ka1PC2phqR"
      }
    },
    {
      "cell_type": "markdown",
      "source": [
        "#### Chart - 11"
      ],
      "metadata": {
        "id": "x-EpHcCOp1ci"
      }
    },
    {
      "cell_type": "code",
      "source": [
        "# Chart - 11 visualization code\n",
        "# Which is the most count of types of guests?\n",
        "customer_counts = hotel_df.groupby(['hotel', 'customer_type']).size().reset_index(name='count')\n",
        "plt.figure(figsize=(10, 6))\n",
        "sns.countplot(x='customer_type', data=hotel_df, palette='viridis')\n",
        "plt.title('Customer Type Distribution', fontsize=14)\n",
        "plt.xlabel('Customer Type', fontsize=10)\n",
        "plt.ylabel('Count', fontsize=10)\n",
        "#plt.xticks(rotation=45)\n",
        "plt.tight_layout()\n",
        "plt.show()"
      ],
      "metadata": {
        "id": "p8W4_l1vfSzE"
      },
      "execution_count": null,
      "outputs": []
    },
    {
      "cell_type": "code",
      "source": [
        "hotel_df['customer_type'].value_counts(normalize=True)"
      ],
      "metadata": {
        "id": "wyZnTro338I0"
      },
      "execution_count": null,
      "outputs": []
    },
    {
      "cell_type": "markdown",
      "source": [
        "##### 1. Why did you pick the specific chart?"
      ],
      "metadata": {
        "id": "X_VqEhTip1ck"
      }
    },
    {
      "cell_type": "markdown",
      "source": [
        "I am pick to Countplot chart.**Which is the most count of types of guests**.\n",
        "This chart in which category vaules counts."
      ],
      "metadata": {
        "id": "-vsMzt_np1ck"
      }
    },
    {
      "cell_type": "markdown",
      "source": [
        "* Transient: Guests who book short stays, often one night.\n",
        "* Contract: Guests booking through a contract, often for work-related stays.\n",
        "* Group: Guests who are part of group bookings.\n",
        "* Transient-Party: Transient guests traveling with others but not in a formal group."
      ],
      "metadata": {
        "id": "ior4fAHBoIuc"
      }
    },
    {
      "cell_type": "markdown",
      "source": [
        "##### 2. What is/are the insight(s) found from the chart?"
      ],
      "metadata": {
        "id": "8zGJKyg5p1ck"
      }
    },
    {
      "cell_type": "markdown",
      "source": [
        "The insight most common guest type is likely Transient due to vacation booking short stays.\n"
      ],
      "metadata": {
        "id": "ZYdMsrqVp1ck"
      }
    },
    {
      "cell_type": "markdown",
      "source": [
        "##### 3. Will the gained insights help creating a positive business impact?\n",
        "Are there any insights that lead to negative growth? Justify with specific reason."
      ],
      "metadata": {
        "id": "PVzmfK_Ep1ck"
      }
    },
    {
      "cell_type": "markdown",
      "source": [
        "This is insights business impact to each hotels stays short day booking.both type hotel in tranisient mostly booking.Promote group offers and vacation packages for Resort Hotels and corporate deals for City Hotels."
      ],
      "metadata": {
        "id": "vyQ179Q5TAkS"
      }
    },
    {
      "cell_type": "markdown",
      "source": [
        "#### Chart - 12"
      ],
      "metadata": {
        "id": "n3dbpmDWp1ck"
      }
    },
    {
      "cell_type": "code",
      "source": [
        "# Chart - 12 visualization code\n",
        "# What is the most room type by hotel booking guests?\n",
        "room_type_booking = hotel_df.groupby(['hotel', 'assigned_room_type'])['assigned_room_type'].count().reset_index(name='count')\n",
        "plt.figure(figsize=(10, 6))\n",
        "sns.barplot(x='assigned_room_type', y='count', hue='hotel', data= room_type_booking, palette='Set2')\n",
        "\n",
        "plt.title('Most Common Room Types Assigned', fontsize=14)\n",
        "plt.xlabel('Room Type', fontsize=12)\n",
        "plt.ylabel('Number of Bookings', fontsize=12)\n",
        "plt.xticks(rotation=45)\n",
        "plt.show()"
      ],
      "metadata": {
        "id": "bwevp1tKp1ck"
      },
      "execution_count": null,
      "outputs": []
    },
    {
      "cell_type": "markdown",
      "source": [
        "##### 1. Why did you pick the specific chart?"
      ],
      "metadata": {
        "id": "ylSl6qgtp1ck"
      }
    },
    {
      "cell_type": "markdown",
      "source": [
        "I am pick to barplot chart **What is the most room type by hotel booking guests?** this is chart category data compares show"
      ],
      "metadata": {
        "id": "m2xqNkiQp1ck"
      }
    },
    {
      "cell_type": "markdown",
      "source": [
        "##### 2. What is/are the insight(s) found from the chart?"
      ],
      "metadata": {
        "id": "ZWILFDl5p1ck"
      }
    },
    {
      "cell_type": "markdown",
      "source": [
        "This chart insight a City & Resort hotels in room types **A&D** most common bookings."
      ],
      "metadata": {
        "id": "x-lUsV2mp1ck"
      }
    },
    {
      "cell_type": "markdown",
      "source": [
        "##### 3. Will the gained insights help creating a positive business impact?\n",
        "Are there any insights that lead to negative growth? Justify with specific reason."
      ],
      "metadata": {
        "id": "M7G43BXep1ck"
      }
    },
    {
      "cell_type": "markdown",
      "source": [
        "This is insights a positive imapact highest bookings represents the most preferred room **A&D** by customers. certain room types are in high demand, the hotel can increase their availability during peak seasons, leading to higher occupancy and revenue."
      ],
      "metadata": {
        "id": "5wwDJXsLp1cl"
      }
    },
    {
      "cell_type": "markdown",
      "source": [
        "#### Chart - 13"
      ],
      "metadata": {
        "id": "Ag9LCva-p1cl"
      }
    },
    {
      "cell_type": "code",
      "source": [
        "hotel_df['deposit_type'].value_counts(normalize=True)"
      ],
      "metadata": {
        "id": "UwNHNF0Siil-"
      },
      "execution_count": null,
      "outputs": []
    },
    {
      "cell_type": "code",
      "source": [
        "# Chart - 13 visualization code\n",
        "# What is distribution of Deposite type ?\n",
        "\n",
        "plt.figure(figsize=(7, 7))\n",
        "sns.countplot(x='deposit_type', data=hotel_df,hue='hotel', palette='viridis')\n",
        "plt.legend(bbox_to_anchor=(1, 1))\n",
        "plt.title('Deposit Type')\n",
        "plt.xlabel('Deposit Type')\n",
        "plt.ylabel('No.of Booking')\n",
        "plt.tight_layout()\n",
        "plt.show()\n",
        ""
      ],
      "metadata": {
        "id": "EUfxeq9-p1cl"
      },
      "execution_count": null,
      "outputs": []
    },
    {
      "cell_type": "markdown",
      "source": [
        "##### 1. Why did you pick the specific chart?"
      ],
      "metadata": {
        "id": "E6MkPsBcp1cl"
      }
    },
    {
      "cell_type": "markdown",
      "source": [
        "This is pick countplot chart.**What is distribution of deposite type ?** This chart in count of each deposit type."
      ],
      "metadata": {
        "id": "V22bRsFWp1cl"
      }
    },
    {
      "cell_type": "markdown",
      "source": [
        "Deposit Type:\n",
        "* No Deposit: Likely the most common, as it offers flexibility to guests.\n",
        "* Non-Refundable: Indicates bookings with a guaranteed commitment.\n",
        "* Refundable: A smaller portion, as flexible policies are less common."
      ],
      "metadata": {
        "id": "jkgDNxV8f0sn"
      }
    },
    {
      "cell_type": "markdown",
      "source": [
        "##### 2. What is/are the insight(s) found from the chart?"
      ],
      "metadata": {
        "id": "2cELzS2fp1cl"
      }
    },
    {
      "cell_type": "markdown",
      "source": [
        "The insight chart a City and Resort hotels likely most common **87%** **No Deposit** type choice.Only a **1%** of bookings are made with a refundable deposit type choice.\n"
      ],
      "metadata": {
        "id": "ozQPc2_Ip1cl"
      }
    },
    {
      "cell_type": "markdown",
      "source": [
        "##### 3. Will the gained insights help creating a positive business impact?\n",
        "Are there any insights that lead to negative growth? Justify with specific reason."
      ],
      "metadata": {
        "id": "3MPXvC8up1cl"
      }
    },
    {
      "cell_type": "markdown",
      "source": [
        "The insight a positive impact a Hotel booking most common No Deposit Types Choice.This is an effective strategy to gain first-time guests and increase booking volumes."
      ],
      "metadata": {
        "id": "GL8l1tdLp1cl"
      }
    },
    {
      "cell_type": "markdown",
      "source": [
        "#### Chart - 14 - Correlation Heatmap"
      ],
      "metadata": {
        "id": "NC_X3p0fY2L0"
      }
    },
    {
      "cell_type": "code",
      "source": [
        "hotel_df.select_dtypes(include=np.number).info()"
      ],
      "metadata": {
        "id": "VnCTnHesWXfZ"
      },
      "execution_count": null,
      "outputs": []
    },
    {
      "cell_type": "code",
      "source": [
        "# Correlation Heatmap visualization code\n",
        "# Select numerical columns from your dataset\n",
        "numerical_cols = ['is_canceled','lead_time','arrival_date_year','arrival_date_week_number','arrival_date_day_of_month','adults','children',\n",
        " 'babies','is_repeated_guest','previous_cancellations','previous_bookings_not_canceled','booking_changes','days_in_waiting_list','adr',\n",
        " 'required_car_parking_spaces','total_of_special_requests','total_stays_hotel','total_revenue']\n",
        "# Adding a numeric version of 'hotel' to the dataset for analysis\n",
        "hotel_numeric = pd.factorize(hotel_df['hotel'])[0]\n",
        "hotel_df['hotel_numeric'] = hotel_numeric\n",
        "numerical_cols.append('hotel_numeric')  # Include the numeric version of 'hotel'\n",
        "# Calculate correlation matrix\n",
        "correlation_matrix = hotel_df[numerical_cols].corr()\n",
        "plt.figure(figsize=(16, 10))\n",
        "sns.heatmap(correlation_matrix, annot=True,fmt=\".2f\",cmap='coolwarm',square=True,cbar=True)\n",
        "plt.title(\"Correlation Heatmap of Numerical Features\", fontsize=14)\n",
        "plt.tight_layout()\n",
        "plt.show()\n",
        "\n",
        "#The heatmap uses a color scale, colors (blue) representing negative correlations and\n",
        "#warmer colors (red) representing positive correlations.\n",
        "#Yellow/white represents low or no correlation."
      ],
      "metadata": {
        "id": "xyC9zolEZNRQ"
      },
      "execution_count": null,
      "outputs": []
    },
    {
      "cell_type": "markdown",
      "source": [
        "##### 1. Why did you pick the specific chart?"
      ],
      "metadata": {
        "id": "UV0SzAkaZNRQ"
      }
    },
    {
      "cell_type": "markdown",
      "source": [
        "I am pick chart is Heatmap.This chart use to correlation heatmap visualization for numerical Dataset vaules."
      ],
      "metadata": {
        "id": "DVPuT8LYZNRQ"
      }
    },
    {
      "cell_type": "markdown",
      "source": [
        "1. Understand Correlation Values:\n",
        "The correlation matrix in the heatmap shows how different numerical features relate to each other. The correlation coefficient values range from -1 to 1:\n",
        "\n",
        " * +1 : Perfect positive correlation (both variables increase together).\n",
        " *  0 :  No correlation (variables are unrelated).\n",
        " * -1 : Perfect negative correlation (one variable increases while the other decreases)."
      ],
      "metadata": {
        "id": "QvnDv3Sjg80V"
      }
    },
    {
      "cell_type": "markdown",
      "source": [
        "*The heatmap uses a color scale,* **colors (blue) representing negative correlations and warmer colors (red) representing positive correlations. Yellow/white represents low or no correlation**."
      ],
      "metadata": {
        "id": "WiJJxxtZj03I"
      }
    },
    {
      "cell_type": "markdown",
      "source": [
        "##### 2. What is/are the insight(s) found from the chart?"
      ],
      "metadata": {
        "id": "YPEH6qLeZNRQ"
      }
    },
    {
      "cell_type": "markdown",
      "source": [
        "* strong positive correlation between lead time and average daity rate are associated with high positive correlation.\n",
        "* is_canceled between average daity rate Negative correlation.it means canceled bookings tend to have lower room prices.\n",
        "* total_stays_hotel and total_revenue are highly positively correlated, this suggests that the more guests stay,the higher the revenue. Hotels can focus on increasing the number of stays to boost revenue."
      ],
      "metadata": {
        "id": "bfSqtnDqZNRR"
      }
    },
    {
      "cell_type": "markdown",
      "source": [
        "#### Chart - 15 - Pair Plot"
      ],
      "metadata": {
        "id": "q29F0dvdveiT"
      }
    },
    {
      "cell_type": "code",
      "source": [
        "# Pair Plot visualization code\n",
        "\n",
        "# Select a subset of numerical columns (replace these with the columns from your dataset)\n",
        "numerical_cols = ['lead_time', 'adr', 'stays_in_weekend_nights', 'stays_in_week_nights', 'adults', 'children', 'hotel'] # Include 'hotel' in the list\n",
        "# Create a pair plot\n",
        "#Since hotel is a categorical feature we will convert it into numeric type to make pairplot\n",
        "hotel_numeric = pd.factorize(hotel_df['hotel'])[0]\n",
        "hotel_df['hotel_numeric'] = hotel_numeric\n",
        "# Include 'hotel_numeric' in the list of columns to be used in pairplot\n",
        "# Hotel_type :-\n",
        "# resort hotel 0\n",
        "# city hotel 1\n",
        "numerical_cols.append('hotel_numeric')  # Adding 'hotel_numeric' to the list\n",
        "sns.pairplot(hotel_df[numerical_cols], diag_kind='kde', hue='hotel_numeric')\n",
        "plt.title(\"Pair Plot of Numerical Features by Hotel Type\")\n",
        "plt.tight_layout()\n",
        "plt.show()\n",
        "\n",
        ""
      ],
      "metadata": {
        "id": "o58-TEIhveiU"
      },
      "execution_count": null,
      "outputs": []
    },
    {
      "cell_type": "markdown",
      "source": [
        "##### 1. Why did you pick the specific chart?"
      ],
      "metadata": {
        "id": "EXh0U9oCveiU"
      }
    },
    {
      "cell_type": "markdown",
      "source": [
        "Pair Plot using Seaborn to visualize relationships between different numerical variables in your dataset,compare these relationships for different hotel types."
      ],
      "metadata": {
        "id": "eMmPjTByveiU"
      }
    },
    {
      "cell_type": "markdown",
      "source": [
        "##### 2. What is/are the insight(s) found from the chart?"
      ],
      "metadata": {
        "id": "22aHeOlLveiV"
      }
    },
    {
      "cell_type": "markdown",
      "source": [
        "City Hotels may cluster around higher values than Resort Hotels.numerical features, such as lead_time and adr, are positively or negatively correlated."
      ],
      "metadata": {
        "id": "uPQ8RGwHveiV"
      }
    },
    {
      "cell_type": "markdown",
      "source": [
        "## **5. Solution to Business Objective**"
      ],
      "metadata": {
        "id": "JcMwzZxoAimU"
      }
    },
    {
      "cell_type": "markdown",
      "source": [
        "#### What do you suggest the client to achieve Business Objective ?\n",
        "Explain Briefly."
      ],
      "metadata": {
        "id": "8G2x9gOozGDZ"
      }
    },
    {
      "cell_type": "markdown",
      "source": [
        " * City Hotels have a much higher cancellation rate years,which can impact revenue.can use cancellation policies,flexible booking options,or offer discounts to keep bookings.\n",
        " * Improve marketing and services in countries with fewer bookings to attract more guests.\n",
        " * Holiday packages for peak seasons, like extended stay discounts.\n",
        " * Optimize their website and offer exclusive discounts for customers who book directly, ensuring a more profitable margin by cutting out agencies fees.\n",
        " *The shorter lead times may indicate last-minute bookings, which can be addressed by introducing more offers and discounts to encourage earlier bookings and promoting last-minute easyli booking service improving .\n",
        " *More gutes not a repeted,so gutes dissatisfaction.Improving guest services, collecting feedback improve service.\n",
        " * Improving breakfast quality and promoting on HB and FB plans to packages can attract more guests.\n",
        " * Improve Offering limited-time promotions for Non-Refundable or Refundable deposits might balance flexibility and commitment, enhancing customer satisfaction and revenue."
      ],
      "metadata": {
        "id": "pASKb0qOza21"
      }
    },
    {
      "cell_type": "markdown",
      "source": [
        "# **Conclusion**"
      ],
      "metadata": {
        "id": "gCX9965dhzqZ"
      }
    },
    {
      "cell_type": "markdown",
      "source": [
        "* City hotels **(61.1%)** always have high demand as compared to **resort hotels(38.9%)**.\n",
        "City hotels are the most preferred hotel type by the guests.\n",
        "High cancellations show that hotels need to understand why guests are canceling.\n",
        "* **66.8%** City Hotels have a much higher cancellation rate compared to Resort Hotels **(33.2%)** over three years.\n",
        "  * The year 2016 saw the most cancellations, especially for City Hotels.\n",
        "* City Hotels 2016 year is most profitable 47.8% of revenue.\n",
        "* Resort Hotels 2017 year is most profitable 41.2% of revenue.\n",
        "* Majority of the gutes are from Portugal conutry.So the bookings are mostly with European countries, Highest is Portugal with 48.59k bookings.\n",
        "   * City Hotels are most booked in Portugal and the United Kingdom.\n",
        "   * Resort Hotels are more popular in Portugal and Spain.\n",
        "* Market Segment and Distribution Channel in most booking Online travel/offline agencies like Website 79%\n",
        "* 79.1 %  most booking Online travel/offline agencies like Website\n",
        "* Resort hotel lead time is high.This Month a high lead(May,June and september).\n",
        "* Number of bookings the average stays in both hotels for 2-3 days of stay guests.\n",
        "* 3.9% repeted guests.and 96.1% were new guests.\n",
        "* Resort hotels a highest Average Daily Rate (ADR) during the summer months of June, July, and August,while city hotels mid-range ADR during the spring period of April, May, and June.\n",
        "* 77.8% most preferred by guest plan choose BB(bed & breakfast)\n",
        "* 82% transient\ttype booking short stays guests.\n",
        "* City & Resort hotels in room types **A&D** most common bookings.\n",
        "* 87% most common No Deposit type choice.\n"
      ],
      "metadata": {
        "id": "Fjb1IsQkh3yE"
      }
    },
    {
      "cell_type": "code",
      "source": [
        "hotel_df_filtered = hotel_df.to_csv('final_hotel_booking.csv')"
      ],
      "metadata": {
        "id": "x4dQRHKnw89e"
      },
      "execution_count": null,
      "outputs": []
    },
    {
      "cell_type": "markdown",
      "source": [
        "### ***Hurrah! You have successfully completed your EDA Capstone Project !!!***"
      ],
      "metadata": {
        "id": "gIfDvo9L0UH2"
      }
    }
  ]
}